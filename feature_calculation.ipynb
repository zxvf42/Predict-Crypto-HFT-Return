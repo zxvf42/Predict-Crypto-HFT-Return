{
 "cells": [
  {
   "cell_type": "code",
   "execution_count": 1,
   "metadata": {},
   "outputs": [],
   "source": [
    "import pandas as pd\n",
    "from utils.numba_utils import *\n",
    "from utils.variable_utils import *\n",
    "from gc import collect as gc\n",
    "import warnings\n",
    "warnings.filterwarnings('ignore')"
   ]
  },
  {
   "cell_type": "code",
   "execution_count": 2,
   "metadata": {},
   "outputs": [],
   "source": [
    "ticker = pd.read_parquet('./data/BTCUSDT-bookTicker-2023-10-01.p').to_records(index=False)\n",
    "trades = pd.read_parquet('./data/BTCUSDT-aggTrades-2023-10-01.p').to_records(index=False)"
   ]
  },
  {
   "cell_type": "code",
   "execution_count": 3,
   "metadata": {},
   "outputs": [
    {
     "data": {
      "text/plain": [
       "['feature_AutoCov',\n",
       " 'feature_Breadth',\n",
       " 'feature_EffectiveSpread',\n",
       " 'feature_Immediacy',\n",
       " 'feature_Lambda',\n",
       " 'feature_LobImbalance',\n",
       " 'feature_PastReturn',\n",
       " 'feature_QuotedSpread',\n",
       " 'feature_TxnImbalance',\n",
       " 'feature_VolumeAll',\n",
       " 'feature_VolumeAvg',\n",
       " 'feature_VolumeMax']"
      ]
     },
     "execution_count": 3,
     "metadata": {},
     "output_type": "execute_result"
    }
   ],
   "source": [
    "from variables import feature, target\n",
    "feature_names = [_ for _ in dir(feature) if _.startswith('feature_')]\n",
    "target_names = [_ for _ in dir(target) if _.startswith('target_')]\n",
    "feature_names"
   ]
  },
  {
   "cell_type": "code",
   "execution_count": 4,
   "metadata": {},
   "outputs": [
    {
     "name": "stderr",
     "output_type": "stream",
     "text": [
      "  0%|          | 0/12 [00:00<?, ?it/s]OMP: Info #276: omp_set_nested routine deprecated, please use omp_set_max_active_levels instead.\n",
      "100%|██████████| 12/12 [00:20<00:00,  1.70s/it]\n",
      "100%|██████████| 12/12 [00:27<00:00,  2.29s/it]\n"
     ]
    }
   ],
   "source": [
    "funcs = [getattr(feature, _) for _ in feature_names]\n",
    "get_names = lambda delta1, delta2: [f'{n}_{delta1}_{delta2}' for n in feature_names]\n",
    "deltas = [(0, 50), (50, 200)]\n",
    "dfs = []\n",
    "for d1, d2 in deltas:\n",
    "    dfs.append(backward_apply(ticker, trades, 'trading', d1, d2, funcs, get_names(d1, d2)))\n",
    "df = pd.concat(dfs, axis=1)"
   ]
  },
  {
   "cell_type": "code",
   "execution_count": 5,
   "metadata": {},
   "outputs": [
    {
     "data": {
      "text/plain": [
       "['target_last_mp', 'target_last_txn_p', 'target_mean_txn_p']"
      ]
     },
     "execution_count": 5,
     "metadata": {},
     "output_type": "execute_result"
    }
   ],
   "source": [
    "target_names"
   ]
  },
  {
   "cell_type": "code",
   "execution_count": 6,
   "metadata": {},
   "outputs": [],
   "source": [
    "# calculate the mean price of future 20 trades. used as prediction target\n",
    "future_fairpx = forward_apply(ticker, trades, 'trading', 20, target.target_mean_txn_p, 'target_mean_txn_p')\n",
    "future_rtn = log(future_fairpx.values / ticker['mp']) * 1e4 # future return in bps"
   ]
  },
  {
   "cell_type": "code",
   "execution_count": 7,
   "metadata": {},
   "outputs": [],
   "source": [
    "df['future_rtn'] = future_rtn\n",
    "df.dropna(inplace=True)\n",
    "df.reset_index(drop=True, inplace=True)\n",
    "df.to_parquet('./data/df.p')"
   ]
  }
 ],
 "metadata": {
  "kernelspec": {
   "display_name": "crypto_hft_predictable",
   "language": "python",
   "name": "python3"
  },
  "language_info": {
   "codemirror_mode": {
    "name": "ipython",
    "version": 3
   },
   "file_extension": ".py",
   "mimetype": "text/x-python",
   "name": "python",
   "nbconvert_exporter": "python",
   "pygments_lexer": "ipython3",
   "version": "3.12.5"
  }
 },
 "nbformat": 4,
 "nbformat_minor": 2
}
