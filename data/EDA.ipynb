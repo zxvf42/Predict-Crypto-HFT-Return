{
 "cells": [
  {
   "cell_type": "code",
   "execution_count": 1,
   "metadata": {},
   "outputs": [],
   "source": [
    "import pandas as pd"
   ]
  },
  {
   "cell_type": "code",
   "execution_count": 2,
   "metadata": {},
   "outputs": [],
   "source": [
    "ticker = pd.read_parquet('./BTCUSDT-bookTicker-2023-10-01.p')"
   ]
  },
  {
   "cell_type": "code",
   "execution_count": 3,
   "metadata": {},
   "outputs": [
    {
     "data": {
      "text/html": [
       "<div>\n",
       "<style scoped>\n",
       "    .dataframe tbody tr th:only-of-type {\n",
       "        vertical-align: middle;\n",
       "    }\n",
       "\n",
       "    .dataframe tbody tr th {\n",
       "        vertical-align: top;\n",
       "    }\n",
       "\n",
       "    .dataframe thead th {\n",
       "        text-align: right;\n",
       "    }\n",
       "</style>\n",
       "<table border=\"1\" class=\"dataframe\">\n",
       "  <thead>\n",
       "    <tr style=\"text-align: right;\">\n",
       "      <th></th>\n",
       "      <th>ts</th>\n",
       "      <th>bp</th>\n",
       "      <th>bv</th>\n",
       "      <th>ap</th>\n",
       "      <th>av</th>\n",
       "      <th>mp</th>\n",
       "    </tr>\n",
       "  </thead>\n",
       "  <tbody>\n",
       "    <tr>\n",
       "      <th>0</th>\n",
       "      <td>1696118400003</td>\n",
       "      <td>26950.9</td>\n",
       "      <td>8.285</td>\n",
       "      <td>26951.0</td>\n",
       "      <td>15.869</td>\n",
       "      <td>26950.95</td>\n",
       "    </tr>\n",
       "    <tr>\n",
       "      <th>1</th>\n",
       "      <td>1696118400006</td>\n",
       "      <td>26950.9</td>\n",
       "      <td>8.285</td>\n",
       "      <td>26951.0</td>\n",
       "      <td>15.862</td>\n",
       "      <td>26950.95</td>\n",
       "    </tr>\n",
       "    <tr>\n",
       "      <th>2</th>\n",
       "      <td>1696118400010</td>\n",
       "      <td>26950.9</td>\n",
       "      <td>8.285</td>\n",
       "      <td>26951.0</td>\n",
       "      <td>15.855</td>\n",
       "      <td>26950.95</td>\n",
       "    </tr>\n",
       "    <tr>\n",
       "      <th>3</th>\n",
       "      <td>1696118400019</td>\n",
       "      <td>26950.9</td>\n",
       "      <td>8.285</td>\n",
       "      <td>26951.0</td>\n",
       "      <td>15.911</td>\n",
       "      <td>26950.95</td>\n",
       "    </tr>\n",
       "    <tr>\n",
       "      <th>4</th>\n",
       "      <td>1696118400035</td>\n",
       "      <td>26950.9</td>\n",
       "      <td>8.218</td>\n",
       "      <td>26951.0</td>\n",
       "      <td>15.911</td>\n",
       "      <td>26950.95</td>\n",
       "    </tr>\n",
       "    <tr>\n",
       "      <th>...</th>\n",
       "      <td>...</td>\n",
       "      <td>...</td>\n",
       "      <td>...</td>\n",
       "      <td>...</td>\n",
       "      <td>...</td>\n",
       "      <td>...</td>\n",
       "    </tr>\n",
       "    <tr>\n",
       "      <th>5540991</th>\n",
       "      <td>1696204799942</td>\n",
       "      <td>27981.3</td>\n",
       "      <td>12.309</td>\n",
       "      <td>27981.4</td>\n",
       "      <td>7.393</td>\n",
       "      <td>27981.35</td>\n",
       "    </tr>\n",
       "    <tr>\n",
       "      <th>5540992</th>\n",
       "      <td>1696204799950</td>\n",
       "      <td>27981.3</td>\n",
       "      <td>12.309</td>\n",
       "      <td>27981.4</td>\n",
       "      <td>7.393</td>\n",
       "      <td>27981.35</td>\n",
       "    </tr>\n",
       "    <tr>\n",
       "      <th>5540993</th>\n",
       "      <td>1696204799952</td>\n",
       "      <td>27981.3</td>\n",
       "      <td>12.309</td>\n",
       "      <td>27981.4</td>\n",
       "      <td>7.368</td>\n",
       "      <td>27981.35</td>\n",
       "    </tr>\n",
       "    <tr>\n",
       "      <th>5540994</th>\n",
       "      <td>1696204799958</td>\n",
       "      <td>27981.3</td>\n",
       "      <td>12.309</td>\n",
       "      <td>27981.4</td>\n",
       "      <td>7.258</td>\n",
       "      <td>27981.35</td>\n",
       "    </tr>\n",
       "    <tr>\n",
       "      <th>5540995</th>\n",
       "      <td>1696204799967</td>\n",
       "      <td>27981.3</td>\n",
       "      <td>12.910</td>\n",
       "      <td>27981.4</td>\n",
       "      <td>7.258</td>\n",
       "      <td>27981.35</td>\n",
       "    </tr>\n",
       "  </tbody>\n",
       "</table>\n",
       "<p>5540996 rows × 6 columns</p>\n",
       "</div>"
      ],
      "text/plain": [
       "                    ts       bp      bv       ap      av        mp\n",
       "0        1696118400003  26950.9   8.285  26951.0  15.869  26950.95\n",
       "1        1696118400006  26950.9   8.285  26951.0  15.862  26950.95\n",
       "2        1696118400010  26950.9   8.285  26951.0  15.855  26950.95\n",
       "3        1696118400019  26950.9   8.285  26951.0  15.911  26950.95\n",
       "4        1696118400035  26950.9   8.218  26951.0  15.911  26950.95\n",
       "...                ...      ...     ...      ...     ...       ...\n",
       "5540991  1696204799942  27981.3  12.309  27981.4   7.393  27981.35\n",
       "5540992  1696204799950  27981.3  12.309  27981.4   7.393  27981.35\n",
       "5540993  1696204799952  27981.3  12.309  27981.4   7.368  27981.35\n",
       "5540994  1696204799958  27981.3  12.309  27981.4   7.258  27981.35\n",
       "5540995  1696204799967  27981.3  12.910  27981.4   7.258  27981.35\n",
       "\n",
       "[5540996 rows x 6 columns]"
      ]
     },
     "execution_count": 3,
     "metadata": {},
     "output_type": "execute_result"
    }
   ],
   "source": [
    "ticker"
   ]
  },
  {
   "cell_type": "markdown",
   "metadata": {},
   "source": [
    "How price jumps:"
   ]
  },
  {
   "cell_type": "code",
   "execution_count": 8,
   "metadata": {},
   "outputs": [
    {
     "data": {
      "text/plain": [
       "np.float64(0.017404452195958993)"
      ]
     },
     "execution_count": 8,
     "metadata": {},
     "output_type": "execute_result"
    }
   ],
   "source": [
    "ticker.bp.diff().ne(0).mean()"
   ]
  },
  {
   "cell_type": "code",
   "execution_count": 7,
   "metadata": {},
   "outputs": [
    {
     "data": {
      "text/plain": [
       "np.float64(0.01744541955994915)"
      ]
     },
     "execution_count": 7,
     "metadata": {},
     "output_type": "execute_result"
    }
   ],
   "source": [
    "ticker.ap.diff().ne(0).mean()"
   ]
  },
  {
   "cell_type": "code",
   "execution_count": 6,
   "metadata": {},
   "outputs": [
    {
     "data": {
      "text/plain": [
       "np.float64(0.02167209649673091)"
      ]
     },
     "execution_count": 6,
     "metadata": {},
     "output_type": "execute_result"
    }
   ],
   "source": [
    "ticker.mp.diff().ne(0).mean()"
   ]
  }
 ],
 "metadata": {
  "kernelspec": {
   "display_name": "crypto_hft_predictable",
   "language": "python",
   "name": "python3"
  },
  "language_info": {
   "codemirror_mode": {
    "name": "ipython",
    "version": 3
   },
   "file_extension": ".py",
   "mimetype": "text/x-python",
   "name": "python",
   "nbconvert_exporter": "python",
   "pygments_lexer": "ipython3",
   "version": "3.12.5"
  }
 },
 "nbformat": 4,
 "nbformat_minor": 2
}
